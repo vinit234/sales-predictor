print("sale_predictor")
print("abcd")
